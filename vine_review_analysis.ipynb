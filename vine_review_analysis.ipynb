{
  "nbformat": 4,
  "nbformat_minor": 0,
  "metadata": {
    "colab": {
      "provenance": [],
      "authorship_tag": "ABX9TyOUAWq3dDNKOnpfVZ0GCrvT",
      "include_colab_link": true
    },
    "kernelspec": {
      "name": "python3",
      "display_name": "Python 3"
    },
    "language_info": {
      "name": "python"
    }
  },
  "cells": [
    {
      "cell_type": "markdown",
      "metadata": {
        "id": "view-in-github",
        "colab_type": "text"
      },
      "source": [
        "<a href=\"https://colab.research.google.com/github/JaspreetKhela/amazon-vine-analysis/blob/main/vine_review_analysis.ipynb\" target=\"_parent\"><img src=\"https://colab.research.google.com/assets/colab-badge.svg\" alt=\"Open In Colab\"/></a>"
      ]
    },
    {
      "cell_type": "markdown",
      "source": [
        "Import and initiate Spark; this is boilerplate code"
      ],
      "metadata": {
        "id": "iCUmi6MbRQQo"
      }
    },
    {
      "cell_type": "code",
      "execution_count": null,
      "metadata": {
        "id": "9vzkJ0CgQyup"
      },
      "outputs": [],
      "source": [
        "import os\n",
        "# Find the latest version of spark 3.0 from http://www.apache.org/dist/spark/ and enter as the spark version\n",
        "# For example:\n",
        "# spark_version = 'spark-3.0.3'\n",
        "spark_version = 'spark-3.1.3'\n",
        "os.environ['SPARK_VERSION']=spark_version\n",
        "\n",
        "# Install Spark and Java\n",
        "!apt-get update\n",
        "!apt-get install openjdk-11-jdk-headless -qq > /dev/null\n",
        "!wget -q http://www.apache.org/dist/spark/$SPARK_VERSION/$SPARK_VERSION-bin-hadoop2.7.tgz\n",
        "!tar xf $SPARK_VERSION-bin-hadoop2.7.tgz\n",
        "!pip install -q findspark\n",
        "\n",
        "# Set Environment Variables\n",
        "import os\n",
        "os.environ[\"JAVA_HOME\"] = \"/usr/lib/jvm/java-11-openjdk-amd64\"\n",
        "os.environ[\"SPARK_HOME\"] = f\"/content/{spark_version}-bin-hadoop2.7\"\n",
        "\n",
        "# Start a SparkSession\n",
        "import findspark\n",
        "findspark.init()"
      ]
    },
    {
      "cell_type": "code",
      "source": [
        "# Download the Postgres driver that will allow Spark to interact with Postgres.\n",
        "!wget https://jdbc.postgresql.org/download/postgresql-42.2.16.jar"
      ],
      "metadata": {
        "id": "Nb8amwdRRJ0U"
      },
      "execution_count": null,
      "outputs": []
    },
    {
      "cell_type": "code",
      "source": [
        "from pyspark.sql import SparkSession\n",
        "spark = SparkSession.builder.appName(\"M16-Amazon-Challenge\").config(\"spark.driver.extraClassPath\",\"/content/postgresql-42.2.16.jar\").getOrCreate()"
      ],
      "metadata": {
        "id": "Pm0fzrOwRd-H"
      },
      "execution_count": null,
      "outputs": []
    },
    {
      "cell_type": "markdown",
      "source": [
        "Import the dataset"
      ],
      "metadata": {
        "id": "KwxOQ0LkSJnG"
      }
    },
    {
      "cell_type": "code",
      "source": [
        "from pyspark import SparkFiles\n",
        "url = \"https://s3.amazonaws.com/amazon-reviews-pds/tsv/amazon_reviews_us_Video_Games_v1_00.tsv.gz\"\n",
        "spark.sparkContext.addFile(url)\n",
        "df = spark.read.option(\"encoding\", \"UTF-8\").csv(SparkFiles.get(\"\"), sep=\"\\t\", header=True, inferSchema=True)\n",
        "df.show()"
      ],
      "metadata": {
        "id": "RaZlMbL0Rhjl"
      },
      "execution_count": null,
      "outputs": []
    },
    {
      "cell_type": "markdown",
      "source": [
        "Transform the dataset"
      ],
      "metadata": {
        "id": "Fs41aX1VSNzD"
      }
    },
    {
      "cell_type": "code",
      "source": [
        "from pyspark.sql.functions import to_date\n",
        "# Read in the Review dataset as a DataFrame\n",
        "# Dropping null values to have a clean data for review \n",
        "clean_df = df.dropna()\n",
        "clean_df.show()"
      ],
      "metadata": {
        "id": "KWjgLWvkR1At"
      },
      "execution_count": null,
      "outputs": []
    },
    {
      "cell_type": "code",
      "source": [
        "# Create the vine_table. DataFrame\n",
        "vine_df = df.select(['review_id', 'star_rating', 'helpful_votes', 'total_votes', 'vine', 'verified_purchase'])\n",
        "vine_df.show()"
      ],
      "metadata": {
        "id": "05SYDpDTR5nF"
      },
      "execution_count": null,
      "outputs": []
    },
    {
      "cell_type": "code",
      "source": [
        "# Using filter for total_votes count is equal to or greater than 20\n",
        "total_votes_df = vine_df.filter(\"total_votes>=20\")\n",
        "total_votes_df.show()"
      ],
      "metadata": {
        "id": "USj-d4_cR6x9"
      },
      "execution_count": null,
      "outputs": []
    },
    {
      "cell_type": "code",
      "source": [
        "# total_votes_df Size\n",
        "total_votes_df.count()"
      ],
      "metadata": {
        "id": "wr0LPc8bSpUh"
      },
      "execution_count": null,
      "outputs": []
    },
    {
      "cell_type": "code",
      "source": [
        "# helpful_votes_df Size\n",
        "helpful_votes_df.count()"
      ],
      "metadata": {
        "id": "h6PhTEbUSto_"
      },
      "execution_count": null,
      "outputs": []
    },
    {
      "cell_type": "code",
      "source": [
        "# Using filter where a review was written as part of the Vine program (paid), vine == 'Y'.\n",
        "paid_df = helpful_votes_df.filter(helpful_votes_df['vine'] == 'Y')\n",
        "paid_df.show()"
      ],
      "metadata": {
        "id": "jzfv3R5ESu3p"
      },
      "execution_count": null,
      "outputs": []
    },
    {
      "cell_type": "code",
      "source": [
        "# Using filter where a review was written as not a part of the Vine program (unpaid), vine == 'N'.\n",
        "unpaid_df = helpful_votes_df.filter(helpful_votes_df['vine'] == 'N')\n",
        "unpaid_df.show()"
      ],
      "metadata": {
        "id": "RnRjmWHeSzDw"
      },
      "execution_count": null,
      "outputs": []
    },
    {
      "cell_type": "code",
      "source": [
        "# The total number of reviews for Vine members\n",
        "total_vine_reviews = paid_df.count()\n",
        "\n",
        "# The number of 5-star reviews for all Vine members\n",
        "fivestar_vine_reviews = paid_df.filter(df['star_rating'] == 5).count()\n",
        "\n",
        "#  percentage of 5-star reviews  for all Vine members\n",
        "per_fivestar_vine_reviews = fivestar_vine_reviews/total_vine_reviews * 100\n",
        "print(f'The total number of reviews for Vine members is : {total_vine_reviews}.\\n \\\n",
        "The number of 5-star reviews for all Vine members: {fivestar_vine_reviews}.\\n  \\\n",
        "The percentage of 5-star reviews for all Vine members : {per_fivestar_vine_reviews}%.')"
      ],
      "metadata": {
        "id": "OxrPCjrSS2L_"
      },
      "execution_count": null,
      "outputs": []
    },
    {
      "cell_type": "code",
      "source": [
        "# The total number of reviews for non-Vine members\n",
        "total_non_vine_reviews = unpaid_df.count()\n",
        "\n",
        "# The number of 5-star reviews for all non-Vine members\n",
        "fivestar_non_vine_reviews = unpaid_df.filter(df['star_rating'] == 5).count()\n",
        "\n",
        "#  percentage of 5-star reviews  for all non-Vine members\n",
        "per_fivestar_non_vine_reviews = fivestar_non_vine_reviews/total_non_vine_reviews * 100\n",
        "print(f'The total number of reviews for non-Vine members is : {total_non_vine_reviews}.\\n \\\n",
        "The number of 5-star reviews for all non-Vine members: {fivestar_non_vine_reviews}.\\n  \\\n",
        "The percentage of 5-star reviews for all non-Vine members : {per_fivestar_non_vine_reviews}%.')"
      ],
      "metadata": {
        "id": "SITMkEJbS7_a"
      },
      "execution_count": null,
      "outputs": []
    },
    {
      "cell_type": "code",
      "source": [
        "# Additional analysis\n",
        "# Total ratio of five star versus non five star reviews for Vine members\n",
        "non_fivestar_vine_reviews = paid_df.filter(df['star_rating'] != 5).count()\n",
        "\n",
        "ratio_fivestar_non_fivestar_vine = fivestar_vine_reviews/non_fivestar_vine_reviews*100\n",
        "\n",
        "# Total ratio of five star versus non five star reviews for non-Vine members\n",
        "non_fivestar_non_vine_reviews = unpaid_df.filter(df['star_rating'] != 5).count()\n",
        "\n",
        "ratio_fivestar_non_fivestar_non_vine = fivestar_non_vine_reviews/non_fivestar_non_vine_reviews *100 \n",
        "\n",
        "print(f'The ratio of fivestar reviews to non fivestar reviews for Vine Members is: {ratio_fivestar_non_fivestar_vine}%. \\n \\\n",
        "The ratio of fivestar reviews to non fivestar reviews for non-Vine Members is: {ratio_fivestar_non_fivestar_non_vine}%.\\n')"
      ],
      "metadata": {
        "id": "9Acjn2puS-58"
      },
      "execution_count": null,
      "outputs": []
    }
  ]
}